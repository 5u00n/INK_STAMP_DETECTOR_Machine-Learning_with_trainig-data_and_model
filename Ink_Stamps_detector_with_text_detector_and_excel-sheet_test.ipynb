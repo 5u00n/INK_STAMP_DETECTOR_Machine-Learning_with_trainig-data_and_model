{
 "cells": [
  {
   "cell_type": "code",
   "execution_count": 31,
   "metadata": {},
   "outputs": [],
   "source": [
    "from PIL import Image,ImageDraw,ImageFont\n",
    "from ultralytics import YOLO\n",
    "from os import walk\n",
    "import easyocr\n",
    "import numpy as np\n",
    "import xlsxwriter\n",
    "import os\n",
    " "
   ]
  },
  {
   "cell_type": "code",
   "execution_count": 6,
   "metadata": {},
   "outputs": [],
   "source": [
    "model = YOLO('./weights/last.pt')"
   ]
  },
  {
   "cell_type": "code",
   "execution_count": 43,
   "metadata": {},
   "outputs": [
    {
     "name": "stderr",
     "output_type": "stream",
     "text": [
      "Neither CUDA nor MPS are available - defaulting to CPU. Note: This module is much faster with a GPU.\n"
     ]
    },
    {
     "data": {
      "text/plain": [
       "0"
      ]
     },
     "execution_count": 43,
     "metadata": {},
     "output_type": "execute_result"
    }
   ],
   "source": [
    "myFont = ImageFont.truetype('./Roboto-Bold.ttf', 30)\n",
    "reader = easyocr.Reader(['en'])\n",
    "mypath=\"./files_to_scan\"\n",
    "filenames = next(walk(mypath), (None, None, []))[2]  # [] if no file\n",
    "\n",
    "output_path=\"./output-marked_img\"\n",
    "if not os.path.exists(output_path):\n",
    "    os.makedirs(output_path)\n",
    "\n",
    "\n",
    "workbook = xlsxwriter.Workbook('Example2.xlsx')\n",
    "worksheet = workbook.add_worksheet()\n",
    " \n",
    "# Start from the first cell.\n",
    "# Rows and columns are zero indexed.\n",
    "row = 1\n",
    "column = 0\n",
    "worksheet.write(0, 0, \"Reference Number\")\n",
    "worksheet.write(0, 1, \"2 Ink Seal Found yes/no\")\n",
    "worksheet.write(0, 2, \"Original Img location\")\n",
    "worksheet.write(0, 3, \"Marked Image Location\")\n",
    "worksheet.set_column(0, 3, 40)"
   ]
  },
  {
   "cell_type": "code",
   "execution_count": 12,
   "metadata": {},
   "outputs": [],
   "source": [
    "def is_vertically_flipped(img):\n",
    "    orig=Image.open(\"./POD1.PNG\").convert('RGB')\n",
    "    tst = img.transpose(Image.ROTATE_180)\n",
    "    if np.any(orig != tst):\n",
    "        return img\n",
    "    else:\n",
    "        return tst"
   ]
  },
  {
   "cell_type": "code",
   "execution_count": 44,
   "metadata": {},
   "outputs": [
    {
     "name": "stderr",
     "output_type": "stream",
     "text": [
      "\n",
      "0: 352x800 2 Ink-stampss, 236.2ms\n",
      "Speed: 0.0ms preprocess, 236.2ms inference, 1.3ms postprocess per image at shape (1, 3, 352, 800)\n",
      "\n",
      "0: 352x800 2 Ink-stampss, 191.8ms\n",
      "Speed: 3.1ms preprocess, 191.8ms inference, 1.0ms postprocess per image at shape (1, 3, 352, 800)\n"
     ]
    }
   ],
   "source": [
    "for filename in filenames:\n",
    "    img_path=mypath+\"/\"+filename\n",
    "    img = Image.open(img_path).convert('RGB')\n",
    "\n",
    "    img=is_vertically_flipped(img)\n",
    "    img.save(img_path)\n",
    "\n",
    "    results = model.predict(img, conf=0.30)\n",
    "\n",
    "    text_result = reader.readtext(img_path, detail = 0)\n",
    "\n",
    "    ref_no=\"\"\n",
    "    for txts in text_result:\n",
    "        if(txts.__contains__(\"Ref#\")):\n",
    "            ref_no=txts.split(\"#\")[1].split(\"/\")[0]\n",
    "\n",
    "    i=0\n",
    "    for det in results[0].boxes.xyxy:\n",
    "        x1, y1, x2, y2 = det\n",
    "        x1, y1, x2, y2 = int(x1), int(y1), int(x2), int(y2)\n",
    "\n",
    "        draw = ImageDraw.Draw(img)\n",
    "        draw.rectangle([x1, y1, x2, y2], outline=\"red\", width=3)\n",
    "        draw2 = ImageDraw.Draw(img)\n",
    "        draw2.text((x1+10, y1+10),ref_no, font=myFont,fill=(255, 0, 0),outline=(0,0,0))\n",
    "        i=i+1\n",
    "    draw = ImageDraw.Draw(img)\n",
    "    if results[0].boxes.xyxy.size()[0]>=2:\n",
    "        draw2.text((10, 10),\"Picture with two ink stamps\", font=myFont,fill=(255, 0, 0),outline=(0,0,0))\n",
    "    else:\n",
    "        draw2.text((10, 10),\"Picture with less than two ink stamps\", font=myFont,fill=(255, 0, 0),outline=(0,0,0))\n",
    "\n",
    "    seal_present=\"Yes\"\n",
    "    if(results[0].boxes.xyxy.size()[0]>=2):\n",
    "        seal_present=\"Yes\"\n",
    "    else:\n",
    "        seal_present=\"No\"\n",
    "\n",
    "\n",
    "    img.save(output_path+\"/\"+ref_no+\".jpg\")\n",
    "\n",
    "    worksheet.write(row, 0, ref_no)\n",
    "    worksheet.write(row, 1,seal_present )\n",
    "    worksheet.write(row, 2, img_path)\n",
    "    worksheet.write(row, 3, output_path+\"/\"+ref_no+\".jpg\")\n",
    "    row+=1\n",
    "    img.show()\n",
    "\n",
    "workbook.close()"
   ]
  }
 ],
 "metadata": {
  "kernelspec": {
   "display_name": "Python 3",
   "language": "python",
   "name": "python3"
  },
  "language_info": {
   "codemirror_mode": {
    "name": "ipython",
    "version": 3
   },
   "file_extension": ".py",
   "mimetype": "text/x-python",
   "name": "python",
   "nbconvert_exporter": "python",
   "pygments_lexer": "ipython3",
   "version": "3.11.3"
  },
  "orig_nbformat": 4
 },
 "nbformat": 4,
 "nbformat_minor": 2
}

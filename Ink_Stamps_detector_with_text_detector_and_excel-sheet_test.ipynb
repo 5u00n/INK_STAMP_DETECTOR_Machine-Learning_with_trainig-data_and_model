{
 "cells": [
  {
   "cell_type": "code",
   "execution_count": 1,
   "metadata": {},
   "outputs": [],
   "source": [
    "from PIL import Image,ImageDraw,ImageFont\n",
    "from ultralytics import YOLO\n",
    "from os import walk\n",
    "import easyocr\n",
    "import numpy as np\n",
    "import xlsxwriter\n",
    "import os\n",
    " "
   ]
  },
  {
   "cell_type": "code",
   "execution_count": 2,
   "metadata": {},
   "outputs": [],
   "source": [
    "model = YOLO('./runs/detect/train2/weights/best.pt')"
   ]
  },
  {
   "cell_type": "code",
   "execution_count": 17,
   "metadata": {},
   "outputs": [
    {
     "name": "stderr",
     "output_type": "stream",
     "text": [
      "Neither CUDA nor MPS are available - defaulting to CPU. Note: This module is much faster with a GPU.\n"
     ]
    },
    {
     "data": {
      "text/plain": [
       "0"
      ]
     },
     "execution_count": 17,
     "metadata": {},
     "output_type": "execute_result"
    }
   ],
   "source": [
    "myFont = ImageFont.truetype('./Roboto-Bold.ttf', 30)\n",
    "reader = easyocr.Reader(['en'])\n",
    "mypath=\"./Image_files/\"\n",
    "filenames = next(walk(mypath), (None, None, []))[2]  # [] if no file\n",
    "\n",
    "output_path=\"./output-marked_img\"\n",
    "if not os.path.exists(output_path):\n",
    "    os.makedirs(output_path)\n",
    "\n",
    "\n",
    "workbook = xlsxwriter.Workbook('Example2.xlsx')\n",
    "worksheet = workbook.add_worksheet()\n",
    " \n",
    "# Start from the first cell.\n",
    "# Rows and columns are zero indexed.\n",
    "row = 1\n",
    "column = 0\n",
    "worksheet.write(0, 0, \"Reference Number\")\n",
    "worksheet.write(0, 1, \"2 Ink Seal Found yes/no\")\n",
    "worksheet.write(0, 2, \"Original Img location\")\n",
    "worksheet.write(0, 3, \"Marked Image Location\")\n",
    "worksheet.set_column(0, 3, 40)\n",
    "\n",
    "\n"
   ]
  },
  {
   "cell_type": "code",
   "execution_count": 18,
   "metadata": {},
   "outputs": [],
   "source": [
    "def is_vertically_flipped(img):\n",
    "    orig=Image.open(\"./POD1.PNG\").convert('RGB')\n",
    "    tst = img.transpose(Image.ROTATE_180)\n",
    "    if np.any(orig != tst):\n",
    "        return img\n",
    "    else:\n",
    "        return tst"
   ]
  },
  {
   "cell_type": "code",
   "execution_count": 19,
   "metadata": {},
   "outputs": [
    {
     "name": "stderr",
     "output_type": "stream",
     "text": [
      "\n"
     ]
    },
    {
     "name": "stderr",
     "output_type": "stream",
     "text": [
      "0: 640x800 (no detections), 505.7ms\n",
      "Speed: 6.2ms preprocess, 505.7ms inference, 0.0ms postprocess per image at shape (1, 3, 640, 800)\n",
      "\n",
      "0: 576x800 (no detections), 371.6ms\n",
      "Speed: 5.5ms preprocess, 371.6ms inference, 1.0ms postprocess per image at shape (1, 3, 576, 800)\n",
      "\n",
      "0: 800x608 1 Ink-stamps, 388.4ms\n",
      "Speed: 6.5ms preprocess, 388.4ms inference, 2.0ms postprocess per image at shape (1, 3, 800, 608)\n"
     ]
    },
    {
     "ename": "ValueError",
     "evalue": "unknown file extension: ",
     "output_type": "error",
     "traceback": [
      "\u001b[1;31m---------------------------------------------------------------------------\u001b[0m",
      "\u001b[1;31mKeyError\u001b[0m                                  Traceback (most recent call last)",
      "File \u001b[1;32mc:\\Users\\su00n\\AppData\\Local\\Programs\\Python\\Python311\\Lib\\site-packages\\PIL\\Image.py:2409\u001b[0m, in \u001b[0;36mImage.save\u001b[1;34m(self, fp, format, **params)\u001b[0m\n\u001b[0;32m   2408\u001b[0m \u001b[39mtry\u001b[39;00m:\n\u001b[1;32m-> 2409\u001b[0m     \u001b[39mformat\u001b[39m \u001b[39m=\u001b[39m EXTENSION[ext]\n\u001b[0;32m   2410\u001b[0m \u001b[39mexcept\u001b[39;00m \u001b[39mKeyError\u001b[39;00m \u001b[39mas\u001b[39;00m e:\n",
      "\u001b[1;31mKeyError\u001b[0m: ''",
      "\nThe above exception was the direct cause of the following exception:\n",
      "\u001b[1;31mValueError\u001b[0m                                Traceback (most recent call last)",
      "\u001b[1;32md:\\3.projects_by_tech\\Python\\INK_STAMP_DETECTOR_Machine-Learning_with_trainig-data_and_model\\Ink_Stamps_detector_with_text_detector_and_excel-sheet_test.ipynb Cell 5\u001b[0m line \u001b[0;36m4\n\u001b[0;32m     <a href='vscode-notebook-cell:/d%3A/3.projects_by_tech/Python/INK_STAMP_DETECTOR_Machine-Learning_with_trainig-data_and_model/Ink_Stamps_detector_with_text_detector_and_excel-sheet_test.ipynb#W4sZmlsZQ%3D%3D?line=35'>36</a>\u001b[0m \u001b[39melse\u001b[39;00m:\n\u001b[0;32m     <a href='vscode-notebook-cell:/d%3A/3.projects_by_tech/Python/INK_STAMP_DETECTOR_Machine-Learning_with_trainig-data_and_model/Ink_Stamps_detector_with_text_detector_and_excel-sheet_test.ipynb#W4sZmlsZQ%3D%3D?line=36'>37</a>\u001b[0m     seal_present\u001b[39m=\u001b[39m\u001b[39m\"\u001b[39m\u001b[39mNo\u001b[39m\u001b[39m\"\u001b[39m\n\u001b[1;32m---> <a href='vscode-notebook-cell:/d%3A/3.projects_by_tech/Python/INK_STAMP_DETECTOR_Machine-Learning_with_trainig-data_and_model/Ink_Stamps_detector_with_text_detector_and_excel-sheet_test.ipynb#W4sZmlsZQ%3D%3D?line=39'>40</a>\u001b[0m img\u001b[39m.\u001b[39;49msave(output_path\u001b[39m+\u001b[39;49m\u001b[39m\"\u001b[39;49m\u001b[39m/\u001b[39;49m\u001b[39m\"\u001b[39;49m\u001b[39m+\u001b[39;49mref_no\u001b[39m+\u001b[39;49m\u001b[39m\"\u001b[39;49m\u001b[39m.jpg\u001b[39;49m\u001b[39m\"\u001b[39;49m)\n\u001b[0;32m     <a href='vscode-notebook-cell:/d%3A/3.projects_by_tech/Python/INK_STAMP_DETECTOR_Machine-Learning_with_trainig-data_and_model/Ink_Stamps_detector_with_text_detector_and_excel-sheet_test.ipynb#W4sZmlsZQ%3D%3D?line=41'>42</a>\u001b[0m worksheet\u001b[39m.\u001b[39mwrite(row, \u001b[39m0\u001b[39m, ref_no)\n\u001b[0;32m     <a href='vscode-notebook-cell:/d%3A/3.projects_by_tech/Python/INK_STAMP_DETECTOR_Machine-Learning_with_trainig-data_and_model/Ink_Stamps_detector_with_text_detector_and_excel-sheet_test.ipynb#W4sZmlsZQ%3D%3D?line=42'>43</a>\u001b[0m worksheet\u001b[39m.\u001b[39mwrite(row, \u001b[39m1\u001b[39m,seal_present )\n",
      "File \u001b[1;32mc:\\Users\\su00n\\AppData\\Local\\Programs\\Python\\Python311\\Lib\\site-packages\\PIL\\Image.py:2412\u001b[0m, in \u001b[0;36mImage.save\u001b[1;34m(self, fp, format, **params)\u001b[0m\n\u001b[0;32m   2410\u001b[0m     \u001b[39mexcept\u001b[39;00m \u001b[39mKeyError\u001b[39;00m \u001b[39mas\u001b[39;00m e:\n\u001b[0;32m   2411\u001b[0m         msg \u001b[39m=\u001b[39m \u001b[39mf\u001b[39m\u001b[39m\"\u001b[39m\u001b[39munknown file extension: \u001b[39m\u001b[39m{\u001b[39;00mext\u001b[39m}\u001b[39;00m\u001b[39m\"\u001b[39m\n\u001b[1;32m-> 2412\u001b[0m         \u001b[39mraise\u001b[39;00m \u001b[39mValueError\u001b[39;00m(msg) \u001b[39mfrom\u001b[39;00m \u001b[39me\u001b[39;00m\n\u001b[0;32m   2414\u001b[0m \u001b[39mif\u001b[39;00m \u001b[39mformat\u001b[39m\u001b[39m.\u001b[39mupper() \u001b[39mnot\u001b[39;00m \u001b[39min\u001b[39;00m SAVE:\n\u001b[0;32m   2415\u001b[0m     init()\n",
      "\u001b[1;31mValueError\u001b[0m: unknown file extension: "
     ]
    }
   ],
   "source": [
    "for filename in filenames:\n",
    "    img_path=mypath+\"/\"+filename\n",
    "    img = Image.open(img_path).convert('RGB')\n",
    "\n",
    "    #img=is_vertically_flipped(img)\n",
    "    #img.save(img_path)\n",
    "\n",
    "    results = model.predict(img, conf=0.30)\n",
    "\n",
    "    text_result = reader.readtext(img_path, detail = 0)\n",
    "\n",
    "    ref_no=\"\"\n",
    "    for txts in text_result:\n",
    "        if(txts.__contains__(\"Ref#\")):\n",
    "            ref_no=txts.split(\"#\")[1].split(\"/\")[0]\n",
    "\n",
    "    i=0\n",
    "    for det in results[0].boxes.xyxy:\n",
    "        x1, y1, x2, y2 = det\n",
    "        x1, y1, x2, y2 = int(x1), int(y1), int(x2), int(y2)\n",
    "\n",
    "        draw = ImageDraw.Draw(img)\n",
    "        draw.rectangle([x1, y1, x2, y2], outline=\"red\", width=3)\n",
    "        draw2 = ImageDraw.Draw(img)\n",
    "        draw2.text((x1+10, y1+10),ref_no, font=myFont,fill=(255, 0, 0),outline=(0,0,0))\n",
    "        i=i+1\n",
    "    draw = ImageDraw.Draw(img)\n",
    "    if results[0].boxes.xyxy.size()[0]>=2:\n",
    "        draw2.text((10, 10),\"Picture with two ink stamps\", font=myFont,fill=(255, 0, 0),outline=(0,0,0))\n",
    "    else:\n",
    "        draw2.text((10, 10),\"Picture with less than two ink stamps\", font=myFont,fill=(255, 0, 0),outline=(0,0,0))\n",
    "\n",
    "    seal_present=\"Yes\"\n",
    "    if(results[0].boxes.xyxy.size()[0]>=2):\n",
    "        seal_present=\"Yes\"\n",
    "    else:\n",
    "        seal_present=\"No\"\n",
    "\n",
    "\n",
    "    img.save(output_path+\"/\"+ref_no+\".jpg\")\n",
    "\n",
    "    worksheet.write(row, 0, ref_no)\n",
    "    worksheet.write(row, 1,seal_present )\n",
    "    worksheet.write(row, 2, img_path)\n",
    "    worksheet.write(row, 3, output_path+\"/\"+ref_no+\".jpg\")\n",
    "    row+=1\n",
    "    img.show()\n",
    "\n",
    "workbook.close()"
   ]
  }
 ],
 "metadata": {
  "kernelspec": {
   "display_name": "Python 3",
   "language": "python",
   "name": "python3"
  },
  "language_info": {
   "codemirror_mode": {
    "name": "ipython",
    "version": 3
   },
   "file_extension": ".py",
   "mimetype": "text/x-python",
   "name": "python",
   "nbconvert_exporter": "python",
   "pygments_lexer": "ipython3",
   "version": "3.11.3"
  },
  "orig_nbformat": 4
 },
 "nbformat": 4,
 "nbformat_minor": 2
}

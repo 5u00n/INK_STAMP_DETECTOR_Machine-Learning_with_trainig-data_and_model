{
 "cells": [
  {
   "cell_type": "code",
   "execution_count": 2,
   "metadata": {},
   "outputs": [],
   "source": [
    "\n",
    "from PIL import Image, ImageDraw,ImageFont\n",
    "import torch\n",
    "import torchvision.models as models\n",
    "from torchvision.transforms import functional as F\n",
    "from yolov5.models.experimental import attempt_load\n",
    "from yolov5.utils.general import non_max_suppression\n",
    "\n"
   ]
  },
  {
   "cell_type": "code",
   "execution_count": 3,
   "metadata": {},
   "outputs": [
    {
     "name": "stdout",
     "output_type": "stream",
     "text": [
      "Fri Sep  8 05:30:20 2023       \n",
      "+---------------------------------------------------------------------------------------+\n",
      "| NVIDIA-SMI 531.41                 Driver Version: 531.41       CUDA Version: 12.1     |\n",
      "|-----------------------------------------+----------------------+----------------------+\n",
      "| GPU  Name                      TCC/WDDM | Bus-Id        Disp.A | Volatile Uncorr. ECC |\n",
      "| Fan  Temp  Perf            Pwr:Usage/Cap|         Memory-Usage | GPU-Util  Compute M. |\n",
      "|                                         |                      |               MIG M. |\n",
      "|=========================================+======================+======================|\n",
      "|   0  NVIDIA GeForce GTX 1650 Ti    WDDM | 00000000:01:00.0 Off |                  N/A |\n",
      "| N/A   38C    P8                3W /  N/A|      0MiB /  4096MiB |      0%      Default |\n",
      "|                                         |                      |                  N/A |\n",
      "+-----------------------------------------+----------------------+----------------------+\n",
      "                                                                                         \n",
      "+---------------------------------------------------------------------------------------+\n",
      "| Processes:                                                                            |\n",
      "|  GPU   GI   CI        PID   Type   Process name                            GPU Memory |\n",
      "|        ID   ID                                                             Usage      |\n",
      "|=======================================================================================|\n",
      "|  No running processes found                                                           |\n",
      "+---------------------------------------------------------------------------------------+\n",
      "d:\\3.projects_by_tech\\Python\\STAMP_SEARCH_TEST\\NewTestData\n"
     ]
    }
   ],
   "source": [
    "!nvidia-smi\n",
    "import os\n",
    "HOME = os.getcwd()\n",
    "print(HOME)"
   ]
  },
  {
   "cell_type": "code",
   "execution_count": 22,
   "metadata": {},
   "outputs": [
    {
     "name": "stderr",
     "output_type": "stream",
     "text": [
      "Ultralytics YOLOv8.0.134  Python-3.11.3 torch-2.0.1+cpu CPU\n",
      "Setup complete  (12 CPUs, 23.4 GB RAM, 328.1/709.4 GB disk)\n"
     ]
    }
   ],
   "source": [
    "from IPython import display\n",
    "display.clear_output()\n",
    "\n",
    "import ultralytics\n",
    "ultralytics.checks()"
   ]
  },
  {
   "cell_type": "code",
   "execution_count": 4,
   "metadata": {},
   "outputs": [],
   "source": [
    "from ultralytics import YOLO\n",
    "\n"
   ]
  },
  {
   "cell_type": "code",
   "execution_count": 5,
   "metadata": {},
   "outputs": [],
   "source": [
    "model1 = YOLO('./runs/detect/train2/weights/best.pt')\n",
    "model2 = YOLO('./runs/detect/train2/weights/last.pt')"
   ]
  },
  {
   "cell_type": "code",
   "execution_count": 6,
   "metadata": {},
   "outputs": [
    {
     "data": {
      "text/plain": [
       "{0: 'Ink-stamps'}"
      ]
     },
     "execution_count": 6,
     "metadata": {},
     "output_type": "execute_result"
    }
   ],
   "source": [
    "model1.names\n",
    "model2.names"
   ]
  },
  {
   "cell_type": "code",
   "execution_count": 7,
   "metadata": {},
   "outputs": [],
   "source": [
    "img_path = './POD1.PNG'\n",
    "img = Image.open(img_path).convert('RGB')\n",
    "myFont = ImageFont.truetype('./Roboto-Bold.ttf', 30)"
   ]
  },
  {
   "cell_type": "code",
   "execution_count": 8,
   "metadata": {},
   "outputs": [
    {
     "name": "stderr",
     "output_type": "stream",
     "text": [
      "\n",
      "image 1/1 d:\\3.projects_by_tech\\Python\\STAMP_SEARCH_TEST\\NewTestData\\POD1.PNG: 352x800 4 Ink-stampss, 526.1ms\n",
      "Speed: 8.0ms preprocess, 526.1ms inference, 8.0ms postprocess per image at shape (1, 3, 352, 800)\n",
      "\n",
      "image 1/1 d:\\3.projects_by_tech\\Python\\STAMP_SEARCH_TEST\\NewTestData\\POD1.PNG: 352x800 2 Ink-stampss, 327.4ms\n",
      "Speed: 8.4ms preprocess, 327.4ms inference, 0.0ms postprocess per image at shape (1, 3, 352, 800)\n"
     ]
    }
   ],
   "source": [
    "results = model1.predict(source=img_path, conf=0.90)\n",
    "results2 = model2.predict(source=img_path, conf=0.30)"
   ]
  },
  {
   "cell_type": "code",
   "execution_count": 10,
   "metadata": {},
   "outputs": [
    {
     "ename": "IndexError",
     "evalue": "index 4 is out of bounds for dimension 0 with size 4",
     "output_type": "error",
     "traceback": [
      "\u001b[1;31m---------------------------------------------------------------------------\u001b[0m",
      "\u001b[1;31mIndexError\u001b[0m                                Traceback (most recent call last)",
      "Cell \u001b[1;32mIn[10], line 2\u001b[0m\n\u001b[0;32m      1\u001b[0m combined_results \u001b[39m=\u001b[39m results\u001b[39m+\u001b[39mresults2\n\u001b[1;32m----> 2\u001b[0m combined_results\u001b[39m.\u001b[39;49msort(key\u001b[39m=\u001b[39;49m\u001b[39mlambda\u001b[39;49;00m x: x[\u001b[39m4\u001b[39;49m], reverse\u001b[39m=\u001b[39;49m\u001b[39mTrue\u001b[39;49;00m)\n\u001b[0;32m      3\u001b[0m combined_results\n",
      "Cell \u001b[1;32mIn[10], line 2\u001b[0m, in \u001b[0;36m<lambda>\u001b[1;34m(x)\u001b[0m\n\u001b[0;32m      1\u001b[0m combined_results \u001b[39m=\u001b[39m results\u001b[39m+\u001b[39mresults2\n\u001b[1;32m----> 2\u001b[0m combined_results\u001b[39m.\u001b[39msort(key\u001b[39m=\u001b[39m\u001b[39mlambda\u001b[39;00m x: x[\u001b[39m4\u001b[39;49m], reverse\u001b[39m=\u001b[39m\u001b[39mTrue\u001b[39;00m)\n\u001b[0;32m      3\u001b[0m combined_results\n",
      "File \u001b[1;32mc:\\Users\\su00n\\AppData\\Local\\Programs\\Python\\Python311\\Lib\\site-packages\\ultralytics\\yolo\\engine\\results.py:111\u001b[0m, in \u001b[0;36mResults.__getitem__\u001b[1;34m(self, idx)\u001b[0m\n\u001b[0;32m    109\u001b[0m r \u001b[39m=\u001b[39m \u001b[39mself\u001b[39m\u001b[39m.\u001b[39mnew()\n\u001b[0;32m    110\u001b[0m \u001b[39mfor\u001b[39;00m k \u001b[39min\u001b[39;00m \u001b[39mself\u001b[39m\u001b[39m.\u001b[39mkeys:\n\u001b[1;32m--> 111\u001b[0m     \u001b[39msetattr\u001b[39m(r, k, \u001b[39mgetattr\u001b[39;49m(\u001b[39mself\u001b[39;49m, k)[idx])\n\u001b[0;32m    112\u001b[0m \u001b[39mreturn\u001b[39;00m r\n",
      "File \u001b[1;32mc:\\Users\\su00n\\AppData\\Local\\Programs\\Python\\Python311\\Lib\\site-packages\\ultralytics\\yolo\\engine\\results.py:63\u001b[0m, in \u001b[0;36mBaseTensor.__getitem__\u001b[1;34m(self, idx)\u001b[0m\n\u001b[0;32m     61\u001b[0m \u001b[39mdef\u001b[39;00m \u001b[39m__getitem__\u001b[39m(\u001b[39mself\u001b[39m, idx):\n\u001b[0;32m     62\u001b[0m \u001b[39m    \u001b[39m\u001b[39m\"\"\"Return a BaseTensor with the specified index of the data tensor.\"\"\"\u001b[39;00m\n\u001b[1;32m---> 63\u001b[0m     \u001b[39mreturn\u001b[39;00m \u001b[39mself\u001b[39m\u001b[39m.\u001b[39m\u001b[39m__class__\u001b[39m(\u001b[39mself\u001b[39;49m\u001b[39m.\u001b[39;49mdata[idx], \u001b[39mself\u001b[39m\u001b[39m.\u001b[39morig_shape)\n",
      "\u001b[1;31mIndexError\u001b[0m: index 4 is out of bounds for dimension 0 with size 4"
     ]
    }
   ],
   "source": [
    "combined_results = results+results2\n",
    "combined_results.sort(key=lambda x: x[4], reverse=True)\n",
    "combined_results"
   ]
  },
  {
   "cell_type": "code",
   "execution_count": 101,
   "metadata": {},
   "outputs": [],
   "source": [
    "i=0\n",
    "\n",
    "for det in results[0].boxes.xyxy:\n",
    "    x1, y1, x2, y2 = det\n",
    "    x1, y1, x2, y2 = int(x1), int(y1), int(x2), int(y2)\n",
    "    #print(x1, y1, x2, y2, conf, cls)\n",
    "\n",
    "    # Draw bounding box on the original image\n",
    "    draw = ImageDraw.Draw(img)\n",
    "    draw.rectangle([x1, y1, x2, y2], outline=\"red\", width=3)\n",
    "    draw2 = ImageDraw.Draw(img)\n",
    "    draw2.text((x1+8, y1+3),\"r1: \"+str(int(results[0].boxes.conf[i]*100))+\"%\", font=myFont,fill=(255, 0, 0),outline=(0,0,0))\n",
    "    #draw.text((x1, y1), str(int(results[0].boxes.conf[i])),\"Marilyn Monroe\",fill=(0, 0, 0))\n",
    "    i=i+1\n",
    "\n"
   ]
  },
  {
   "cell_type": "code",
   "execution_count": 29,
   "metadata": {},
   "outputs": [],
   "source": [
    "i=0\n",
    "for det in results2[0].boxes.xyxy:\n",
    "    x1, y1, x2, y2 = det\n",
    "    x1, y1, x2, y2 = int(x1), int(y1), int(x2), int(y2)\n",
    "    #print(x1, y1, x2, y2, conf, cls)\n",
    "\n",
    "    # Draw bounding box on the original image\n",
    "    draw = ImageDraw.Draw(img)\n",
    "    draw.rectangle([x1, y1, x2, y2], outline=\"red\", width=3)\n",
    "    draw2 = ImageDraw.Draw(img)\n",
    "    draw2.text((x1+28, y1+50),\"r2: \"+str(int(results2[0].boxes.conf[i]*100))+\"%\", font=myFont,fill=(255, 0, 0),outline=(0,0,0))\n",
    "    #draw.text((x1, y1), str(int(results[0].boxes.conf[i])),\"Marilyn Monroe\",fill=(0, 0, 0))\n",
    "    i=i+1\n",
    "\n",
    "img.show()"
   ]
  },
  {
   "cell_type": "code",
   "execution_count": 36,
   "metadata": {},
   "outputs": [],
   "source": [
    "seal_present=\"false\"\n",
    "if(results2[0].boxes.xyxy.size()[0]>=2):\n",
    "    seal_present=\"true\"\n",
    "else:\n",
    "    seal_present=\"false\""
   ]
  },
  {
   "cell_type": "code",
   "execution_count": 3,
   "metadata": {},
   "outputs": [
    {
     "name": "stderr",
     "output_type": "stream",
     "text": [
      "Neither CUDA nor MPS are available - defaulting to CPU. Note: This module is much faster with a GPU.\n"
     ]
    },
    {
     "name": "stdout",
     "output_type": "stream",
     "text": [
      "<class 'list'>\n"
     ]
    }
   ],
   "source": [
    "import easyocr\n",
    "reader = easyocr.Reader(['en'])\n",
    "result = reader.readtext('./POD1.PNG', detail = 0)\n",
    "print(type(result))"
   ]
  },
  {
   "cell_type": "code",
   "execution_count": 38,
   "metadata": {},
   "outputs": [
    {
     "data": {
      "text/plain": [
       "'852957008'"
      ]
     },
     "execution_count": 38,
     "metadata": {},
     "output_type": "execute_result"
    }
   ],
   "source": [
    "ref_no=\"\"\n",
    "for txts in result:\n",
    "    if(txts.__contains__(\"Ref#\")):\n",
    "        ref_no=txts.split(\"#\")[1].split(\"/\")[0]\n",
    "\n",
    "ref_no"
   ]
  },
  {
   "cell_type": "code",
   "execution_count": 42,
   "metadata": {},
   "outputs": [],
   "source": [
    "import xlwt\n",
    "from xlwt import Workbook\n",
    "  \n",
    "# Workbook is created\n",
    "wb = Workbook()\n",
    "  \n",
    "# add_sheet is used to create sheet.\n",
    "sheet1 = wb.add_sheet('Sheet 1')\n",
    "\n",
    "sheet1.write(0,0,\"Reference no.\")\n",
    "sheet1.write(0,1,\"File Path\")\n",
    "sheet1.write(0,2,\"Two Seal Present\")\n",
    "sheet1.write(1,0,int(ref_no))\n",
    "sheet1.write(1,1,img_path)\n",
    "\n",
    "sheet1.write(1,2,seal_present)\n",
    "\n",
    "  \n",
    "wb.save('scan_output.xlsx')"
   ]
  }
 ],
 "metadata": {
  "kernelspec": {
   "display_name": "Python 3",
   "language": "python",
   "name": "python3"
  },
  "language_info": {
   "codemirror_mode": {
    "name": "ipython",
    "version": 3
   },
   "file_extension": ".py",
   "mimetype": "text/x-python",
   "name": "python",
   "nbconvert_exporter": "python",
   "pygments_lexer": "ipython3",
   "version": "3.11.3"
  },
  "orig_nbformat": 4
 },
 "nbformat": 4,
 "nbformat_minor": 2
}

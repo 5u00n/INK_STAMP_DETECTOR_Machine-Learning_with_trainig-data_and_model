{
 "cells": [
  {
   "cell_type": "code",
   "execution_count": 1,
   "metadata": {},
   "outputs": [
    {
     "name": "stdout",
     "output_type": "stream",
     "text": [
      "Tue Sep 12 17:43:57 2023       \n",
      "+---------------------------------------------------------------------------------------+\n",
      "| NVIDIA-SMI 531.41                 Driver Version: 531.41       CUDA Version: 12.1     |\n",
      "|-----------------------------------------+----------------------+----------------------+\n",
      "| GPU  Name                      TCC/WDDM | Bus-Id        Disp.A | Volatile Uncorr. ECC |\n",
      "| Fan  Temp  Perf            Pwr:Usage/Cap|         Memory-Usage | GPU-Util  Compute M. |\n",
      "|                                         |                      |               MIG M. |\n",
      "|=========================================+======================+======================|\n",
      "|   0  NVIDIA GeForce GTX 1650 Ti    WDDM | 00000000:01:00.0 Off |                  N/A |\n",
      "| N/A   52C    P0               14W /  N/A|      0MiB /  4096MiB |      0%      Default |\n",
      "|                                         |                      |                  N/A |\n",
      "+-----------------------------------------+----------------------+----------------------+\n",
      "                                                                                         \n",
      "+---------------------------------------------------------------------------------------+\n",
      "| Processes:                                                                            |\n",
      "|  GPU   GI   CI        PID   Type   Process name                            GPU Memory |\n",
      "|        ID   ID                                                             Usage      |\n",
      "|=======================================================================================|\n",
      "|  No running processes found                                                           |\n",
      "+---------------------------------------------------------------------------------------+\n",
      "d:\\3.projects_by_tech\\Python\\INK_STAMP_DETECTOR_Machine-Learning_with_trainig-data_and_model\n"
     ]
    }
   ],
   "source": [
    "!nvidia-smi\n",
    "import os\n",
    "HOME = os.getcwd()\n",
    "print(HOME)"
   ]
  },
  {
   "cell_type": "code",
   "execution_count": 2,
   "metadata": {},
   "outputs": [
    {
     "name": "stderr",
     "output_type": "stream",
     "text": [
      "Ultralytics YOLOv8.0.134  Python-3.11.3 torch-2.0.1+cpu CPU\n",
      "Setup complete  (12 CPUs, 23.4 GB RAM, 336.5/709.4 GB disk)\n"
     ]
    }
   ],
   "source": [
    "from IPython import display\n",
    "display.clear_output()\n",
    "\n",
    "import ultralytics\n",
    "ultralytics.checks()"
   ]
  },
  {
   "cell_type": "code",
   "execution_count": 5,
   "metadata": {},
   "outputs": [],
   "source": [
    "from ultralytics import YOLO\n",
    "from PIL import Image, ImageDraw,ImageFont\n",
    "from torchvision.transforms import functional as F\n",
    "from yolov5.models.experimental import attempt_load\n",
    "from yolov5.utils.general import non_max_suppression\n"
   ]
  },
  {
   "cell_type": "code",
   "execution_count": 6,
   "metadata": {},
   "outputs": [],
   "source": [
    "model1 = YOLO('./runs/detect/train2/weights/best.pt')\n",
    "model2 = YOLO('./runs/detect/train2/weights/last.pt')"
   ]
  },
  {
   "cell_type": "code",
   "execution_count": 7,
   "metadata": {},
   "outputs": [
    {
     "data": {
      "text/plain": [
       "{0: 'Ink-stamps'}"
      ]
     },
     "execution_count": 7,
     "metadata": {},
     "output_type": "execute_result"
    }
   ],
   "source": [
    "model1.names\n",
    "model2.names"
   ]
  },
  {
   "cell_type": "code",
   "execution_count": 10,
   "metadata": {},
   "outputs": [
    {
     "name": "stdout",
     "output_type": "stream",
     "text": [
      "<bound method YOLO.val of <ultralytics.yolo.engine.model.YOLO object at 0x000001F037844090>>\n"
     ]
    }
   ],
   "source": [
    "print(model1.val)"
   ]
  },
  {
   "cell_type": "code",
   "execution_count": 5,
   "metadata": {},
   "outputs": [],
   "source": [
    "img_path = './POD1.PNG'\n",
    "img = Image.open(img_path).convert('RGB')\n",
    "myFont = ImageFont.truetype('./Roboto-Bold.ttf', 30)"
   ]
  },
  {
   "cell_type": "code",
   "execution_count": 6,
   "metadata": {},
   "outputs": [
    {
     "name": "stderr",
     "output_type": "stream",
     "text": [
      "\n",
      "image 1/1 d:\\3.projects_by_tech\\Python\\INK_STAMP_DETECTOR_Machine-Learning_with_trainig-data_and_model\\POD1.PNG: 352x800 4 Ink-stampss, 215.1ms\n",
      "Speed: 0.0ms preprocess, 215.1ms inference, 1.0ms postprocess per image at shape (1, 3, 352, 800)\n",
      "\n",
      "image 1/1 d:\\3.projects_by_tech\\Python\\INK_STAMP_DETECTOR_Machine-Learning_with_trainig-data_and_model\\POD1.PNG: 352x800 2 Ink-stampss, 198.3ms\n",
      "Speed: 0.0ms preprocess, 198.3ms inference, 1.0ms postprocess per image at shape (1, 3, 352, 800)\n"
     ]
    }
   ],
   "source": [
    "results = model1.predict(source=img_path, conf=0.90)\n",
    "results2 = model2.predict(source=img_path, conf=0.30)"
   ]
  },
  {
   "cell_type": "code",
   "execution_count": 101,
   "metadata": {},
   "outputs": [],
   "source": [
    "i=0\n",
    "\n",
    "for det in results[0].boxes.xyxy:\n",
    "    x1, y1, x2, y2 = det\n",
    "    x1, y1, x2, y2 = int(x1), int(y1), int(x2), int(y2)\n",
    "    #print(x1, y1, x2, y2, conf, cls)\n",
    "\n",
    "    # Draw bounding box on the original image\n",
    "    draw = ImageDraw.Draw(img)\n",
    "    draw.rectangle([x1, y1, x2, y2], outline=\"red\", width=3)\n",
    "    draw2 = ImageDraw.Draw(img)\n",
    "    draw2.text((x1+8, y1+3),\"r1: \"+str(int(results[0].boxes.conf[i]*100))+\"%\", font=myFont,fill=(255, 0, 0),outline=(0,0,0))\n",
    "    #draw.text((x1, y1), str(int(results[0].boxes.conf[i])),\"Marilyn Monroe\",fill=(0, 0, 0))\n",
    "    i=i+1\n",
    "\n"
   ]
  },
  {
   "cell_type": "code",
   "execution_count": 7,
   "metadata": {},
   "outputs": [],
   "source": [
    "i=0\n",
    "for det in results2[0].boxes.xyxy:\n",
    "    x1, y1, x2, y2 = det\n",
    "    x1, y1, x2, y2 = int(x1), int(y1), int(x2), int(y2)\n",
    "    #print(x1, y1, x2, y2, conf, cls)\n",
    "\n",
    "    # Draw bounding box on the original image\n",
    "    draw = ImageDraw.Draw(img)\n",
    "    draw.rectangle([x1, y1, x2, y2], outline=\"red\", width=3)\n",
    "    draw2 = ImageDraw.Draw(img)\n",
    "    draw2.text((x1+28, y1+50),\"r2: \"+str(int(results2[0].boxes.conf[i]*100))+\"%\", font=myFont,fill=(255, 0, 0),outline=(0,0,0))\n",
    "    #draw.text((x1, y1), str(int(results[0].boxes.conf[i])),\"Marilyn Monroe\",fill=(0, 0, 0))\n",
    "    i=i+1\n",
    "\n",
    "img.show()"
   ]
  },
  {
   "cell_type": "code",
   "execution_count": 8,
   "metadata": {},
   "outputs": [],
   "source": [
    "seal_present=\"false\"\n",
    "if(results2[0].boxes.xyxy.size()[0]>=2):\n",
    "    seal_present=\"true\"\n",
    "else:\n",
    "    seal_present=\"false\""
   ]
  },
  {
   "cell_type": "code",
   "execution_count": 9,
   "metadata": {},
   "outputs": [
    {
     "name": "stderr",
     "output_type": "stream",
     "text": [
      "Neither CUDA nor MPS are available - defaulting to CPU. Note: This module is much faster with a GPU.\n"
     ]
    },
    {
     "name": "stdout",
     "output_type": "stream",
     "text": [
      "<class 'list'>\n"
     ]
    }
   ],
   "source": [
    "import easyocr\n",
    "reader = easyocr.Reader(['en'])\n",
    "result = reader.readtext('./POD1.PNG', detail = 0)\n",
    "print(type(result))"
   ]
  },
  {
   "cell_type": "code",
   "execution_count": 10,
   "metadata": {},
   "outputs": [
    {
     "data": {
      "text/plain": [
       "'852957008'"
      ]
     },
     "execution_count": 10,
     "metadata": {},
     "output_type": "execute_result"
    }
   ],
   "source": [
    "ref_no=\"\"\n",
    "for txts in result:\n",
    "    if(txts.__contains__(\"Ref#\")):\n",
    "        ref_no=txts.split(\"#\")[1].split(\"/\")[0]\n",
    "\n",
    "ref_no"
   ]
  },
  {
   "cell_type": "code",
   "execution_count": 1,
   "metadata": {},
   "outputs": [],
   "source": [
    "import xlsxwriter\n",
    " \n",
    "workbook = xlsxwriter.Workbook('Example2.xlsx')\n",
    "worksheet = workbook.add_worksheet()\n",
    " \n",
    "# Start from the first cell.\n",
    "# Rows and columns are zero indexed.\n",
    "row = 0\n",
    "column = 0\n",
    " \n",
    "content = [\"ankit\", \"rahul\", \"priya\", \"harshita\",\n",
    "                    \"sumit\", \"neeraj\", \"shivam\"]\n",
    " \n",
    "# iterating through content list\n",
    "for item in content :\n",
    " \n",
    "    # write operation perform\n",
    "    worksheet.write(row, column, item)\n",
    " \n",
    "    # incrementing the value of row by one\n",
    "    # with each iterations.\n",
    "    row += 1\n",
    "     \n",
    "workbook.close()"
   ]
  }
 ],
 "metadata": {
  "kernelspec": {
   "display_name": "Python 3",
   "language": "python",
   "name": "python3"
  },
  "language_info": {
   "codemirror_mode": {
    "name": "ipython",
    "version": 3
   },
   "file_extension": ".py",
   "mimetype": "text/x-python",
   "name": "python",
   "nbconvert_exporter": "python",
   "pygments_lexer": "ipython3",
   "version": "3.11.3"
  },
  "orig_nbformat": 4
 },
 "nbformat": 4,
 "nbformat_minor": 2
}

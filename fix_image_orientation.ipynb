{
 "cells": [
  {
   "cell_type": "code",
   "execution_count": 19,
   "metadata": {},
   "outputs": [],
   "source": [
    "from PIL import Image,ImageDraw,ImageFont\n",
    "import easyocr\n",
    "from os import walk\n",
    "import os"
   ]
  },
  {
   "cell_type": "code",
   "execution_count": 98,
   "metadata": {},
   "outputs": [
    {
     "name": "stderr",
     "output_type": "stream",
     "text": [
      "Neither CUDA nor MPS are available - defaulting to CPU. Note: This module is much faster with a GPU.\n"
     ]
    },
    {
     "name": "stdout",
     "output_type": "stream",
     "text": [
      "['POD1.PNG', 'POD1_rotated180.PNG']\n"
     ]
    }
   ],
   "source": [
    "reader = easyocr.Reader(['en'])\n",
    "\n",
    "mypath=\"./files_to_scan/\"\n",
    "filenames = next(walk(mypath), (None, None, []))[2]\n",
    "print(filenames)\n"
   ]
  },
  {
   "cell_type": "code",
   "execution_count": 49,
   "metadata": {},
   "outputs": [],
   "source": [
    "def rotate_image(img_path):\n",
    "    img=Image.open(img_path).convert('RGB')\n",
    "    tst = img.transpose(Image.ROTATE_90)\n",
    "    tst.save(img_path)\n",
    "    tst.show()\n",
    "    text_result = reader.readtext(img_path, detail = 0)\n",
    "    return text_result\n",
    "    #if(len(text_result)<20):\n",
    "        #rotate_image(img_path)\n",
    "    #else:\n",
    "        #return text_result"
   ]
  },
  {
   "cell_type": "code",
   "execution_count": 51,
   "metadata": {},
   "outputs": [
    {
     "name": "stdout",
     "output_type": "stream",
     "text": [
      "['Origin', 'BOM', 'CHB', 'Destination ; FAR', 'FAO', '5', '\"S38RFAd S $    EudRI', 'MUNBAI', 'FARIDABAD', '94', 'EXPRESS LIMITED', 'Shipper 366741', 'To:', 'REDINGTON', 'LIMITED', 'DE:L', 'INTERNATIONAL', 'SERVICES', 'Attention: REDINCTON', 'LIMITED', '61', 'Sender;', 'INDIA', 'PRIVATE', 'LTNITED', 'Address: KHEWAT NO.391/486 KHASRA', 'AddFess BUILDING', '#DI', 'UNII', 'TTo 15', 'KHEWAT', 'NO . 392 /487', 'KHA SRA', 'NO', 'MUMAAT', 'Nsk HIGHKiAY', 'NH-03', 'RdGhBHINANDI', 'FARTDARAD', '46', 'ckel No_S/7446)v6', 'Pincode: MOMAAT', '421302', 'Pincode', '121004', 'Tel', 'Tel;', '33818733eeeue', 'Pickup Date: 09/08/2023', 'Dox  Nonpox', 'Time:', 'retiretTYd.740', 'Emp#: 104730', 'Cha_NEi149,95', 'Fna', '21004', 'Shiipr Sign:_', '5 1 7 7 4 0 6k56 &\"', 'Totl89e5.', '55', 'PUR#:', 'Received9', 'Reid xmencial', 'ConnoditY', 'Rej', '1#712843956', '2100400.00', 'Delivery', 'Dimension Detailsi', 'Pcs', '(392', '16815', '5d', '35.0', 'IOO', '410', 'Ymobb', '48.0', 'Consignec Signature', 'Nane', 'Ref#712843956/SMBSR', 'Boxes#55', \"SHIPPER'S COPY\", 'Irack', 'this air Waybillal WWI bluedancom', 'Llnr', 'FETVER', 'Subjeer ', 'cheching', 'Quantity', '534ng2', 'Vermcation', 'Quallty', '0432', 'Aa', '742025', 'Rdse', 'Box', 'Road', 'Relect', 'Securty', 'Box', 'Time', 'elgnature']\n",
      "\n",
      "['Origin', 'SPD / SPD', 'Destination', 'AHD / TLT', 'SURFACE', 'BLUE DART', 'CHENNAI', 'AHMEDABAD', 'EXPRESS LIMITED', 'Shipper: 002446', 'To:', 'RASHI', 'PERIPHERALS', 'LIMITE', 'DELL', 'INTERHATIONAL  SERVICES', 'Attention: RASHI', 'PERIPHERALS LI', 'Sender:', 'INDIA', 'PRIVATE', 'LIMITED', 'Address; 109', '209', 'MAGNTFICO', 'OPP', 'Kove', 'Address:c/o YCH', 'INDIA', 'PVT LTD', 'AVLON', 'HOTELOFF', 'SINDHUBHAVAN', 'PLOT', '(DTA)', 'UNIT', 'AHMEDABAD', 'SIPCOT HITECH', 'SEZ', 'PHASE', 'Pincode: SRIPERUMEUDUR-602105', 'Pincode', '380054', 'Tel', '9824482599', 'Tel:', 'Pickup Date:', '01/09/2023', 'Dox ( NonDox:', 'Time:', 'Actrt:', '31.200', 'Kgs', 'Emp#:', '111509', 'Chg', 'WE:', '23.81', 'Shipr Sign:', '5 1 7 7 4 1 2 9 2 9', '3', 'Pieces:', 'PUR#:', 'Commercial', 'Va lue', 'Commodity', '002', 'Ref', '713157984', '47200.00', 'Delivery', 'Details', '0S', 'La=', 'Dimenslon Details:', 'Pcs', 'Received', 'shipment', 'in good', 'condition', '1/We', 'agree', '31.U', '24.0', '48.0', 'Pay', 'all', 'chargesincluding', 'customs', 'Dulies', 'Taxes', 'octtoi', 'applicable', 'Flcaae Deifar Against', 'Consignee Signature:', 'Isignatur? wjh Company Sealf', 'Name', 'Ref#713157984/COSLR', 'Boxes#4', 'POD CQPX', 'Irack_this air waybilat www bluedart com', 'Cut', 'Here', '5aL', 'WP']\n",
      "\n",
      "['L', 'Kaal aaiaa Lul', 'doa Wn Jun Mena', '#Wird Eanul ', 'I261', 'A1i 7916291220', 'Ke Wnn', 'Aitaa', '51774223642', 'Bt #713366789', 'Euili', 'mckr YD)', 'WFET', 'Mien', 'cadition Ifla agree', '14G3', 'Quatoas Duties,', 'Txes', '8', '71499657896ESLC', 'Boxe E0', 'Intikikltuabl', 'Qm+_', '{RECEInEDy', 'EWB']\n",
      "\n",
      "['Orljth', 'Coe', 'RodUct CODE', 'EITOZHHH', 'DART APITX', 'oda', 'FEED', '6mlruee Cck', 'blue DaRI', '{unmut', 'Lotnan', 'ESE', '36', 'AiLttnn', 'Fal', 'IX', 'SFETED', 'Ie4as', 'EEELEA', 'ISHnzie p2D', 'AaA', 'Dous', 'Timtie', 'PevDupl', 'Dexctinliuet (YoME # contnin |', 'SShinects', 'MODAN', 'Un', 'E', 'PURA', 'Lcul', 'Ju L', '1e?25', 'KIc\"Iin', 'Slen', 'SCCA e', 'JN 126S\"36443', '5 8 0 6 4 0 9 3 1 2 4', '7', 'RLe', '06', 'Yfi', 'Klsud', 'AA c', '242IA', '1Z', 'CESTOHE R Locelr', 'MM', 'POd copY', '\"TracH2 22', 'OR eall 4b', '4 1860-233-1234', '{65', '~Jiuoneo', '62/3]', 'QRedan com']\n",
      "\n",
      "['Drigin : SP\", SPD', 'Destination : HYD / KOM', 'SURFACE', 'BLUE De', \"'CHENNA?\", 'HYDERABAD', 'EXPRESS LIN', 'Shipper: 096633', 'To:', 'ARUN', 'RAMASUBRAMANIAN', 'DELL', 'INTERNATIONAL', 'DISIPL', 'Attention: INGRAM MICRO', 'INDIA', 'Sender:', 'PLAN', '842143965', 'Address:5-46/5', 'SYNO', '172', '174', 'Addrer', \"'H4\", 'SIPCOT', 'INDUSTRIAL', 'PARK', 'APPAREL', 'EXPORT', 'PARK', 'UATRAN POST', 'SECUNDERABAD', 'PP BOXES ', 'KANCHIPURAM DISTRICT', 'Pincode: TAMTLNADU', '602106', 'Bancode', '500014', 'Tel: 4461704177', 'Tel:', 'Laterial Recelyed:', 'Ww', 'Pxke', 'Pickup Date: 29/07/20gdect (0', 'Qox / Nanpoxa', 'Time:', 'INGRA YcRO INDIA', '(e.e533', 'Emp#:', '103553n', 'Nu', 'Chg', 'WE:', '539.37', 'Sign:_', '34', 'Tima', '25 1l 6 5 3 3 97 3', 'Pieces: 94', 'Purodi', 'Ey: 002', 'Daio', 'Ref', '8424439653pes\"', 'Keadted', 'E', 'Bs1ue', 'Delivery', 'Details', 'So', 'Hateriarkecaned', 'a48', 'Pomaeeu', 'mengion Details', 'BOXHOUecs', 'Received', 'shipnent', 'gooc', 'conditionSubfa Easlerlieeslon\"', '39.4', '48.7', 'ppeycol', 'all', 'charges', '1ncluding', 'cunfgra Rhfcro( DiRPvT, LTD', '#yg60', '10.0', '52.0', 'applicable', 'Consignee Signature:', 'Bce Enclosed', 'Fleasa Dekivar Against', 'Ee', 'MIOg[dme_', 'Gompzny Jeal', 'Ref#842143965/CODrs', 'Boxes#94-', 'POD COPY', 'Track', 'this airwaybillatWWWbluedarcom', 'Cut', 'Here -_', 'SrMI', 'Shipr', '~sign']\n",
      "\n",
      "['DART APEX', 'BLUE DART', 'Oa2umg', 'Cuevk Codt', 'Apilanucat', 'ale DeriG0EL', 'aunNutndn', 'CuTY DITIQR', 'muM DICA', 'CHEIUDUN', 'Oe', 'JJNuiMncO1', 'Fon', 'Senol', '@STNa', 'Msh Kdi', 'ulbEn ?umx', 'Fe', 'Cui (Hon B', \"5707'\", 'Aann', '0 PLpC', '58813555393', 'Lerua', 'elninai', 'ACjn', 'LrO Mal', ' D Cua', 'ptoe DeliycrAgans', 'Snda', 'Comna\"tse', 'ShippeR COPT', 'BOM ', 'CHB', 'Deatinatior', 'SURFACU', 'eLVE', 'ARI', 'KuxbAI', 'FHRADUN', 'chnocr', '66741', 'ERCTr', 'Fule  FHITEANATOni', 'ARVICEA', 'JatuntontGU', 'FRECTR', 'Sonnon', 'HDaTAIVAT LLMITIE', 'Aduruss Bdi', 'LLNE *02', 'AddroraERZnLmI', 'HALAMD R+LH', 'En', 'MalNIC', '0i-09', 'DehkiDUT', 'Ac  MMTA T', 'PIncodd-HNEUC', '4117c)', 'ncorn', 'Jaadn]', 'Pickup Datos', '27/07/20234', 'Di  NonDox', 'Acet', '14440', 'Emox;', '076azg', 'sign:', '5 1 7 7 4 0 5 4 2 0 5', 'Plcc er:', 'PURA', 'LECA', 'adiey', '852950161', 'A4tkotn', 'DulivaEy', 'DoLil LI', 'manainn', 'Detalls:', '22', '6 34', '21 6', 'Contignoc', 'signature', 'Deliver Against', 'Signalure with', 'Company S4', 'Ref#852950161/CODIS', 'Boxes#55', 'Track Ihlt alc waxu-liew tuadur can', 'JPPER S COPX', 'Orrin', \"'16423\", '12 443', 'L1i~', 'Piqase']\n",
      "\n",
      "['EEL  eFd ', 'EXPRESS', 'Desjnabzn', 'DEL', 'SDw', 'MoNNegotjale', 'OnosSAisk', 'Cuslomer Ccje', '007246', 'Contimeiz', 'ctican=', 'DELL INTERNATIONAL SERVICES', 'Ccrigany', 'SUPERTRON', 'ECTRONICS FR', 'conoer', 'PLAN.1155927171', 'SUPERTRONELECTRONIC', 'Ajd je8s', 'CijychlcsisticsincuPutLt', 'ma', '+24OKHLA  NDUSTRIA_ AREA', 'PLCT NC', 'D-VIDTA UNIT', 'FHASE-', 'NE  DELHI', 'Sipcot HITecH SEZ PHASE II,SPD', 'NEW DELHI', '602105', 'GSTNc-', '3 ec715250i7F', 'Pincodc', '11n031', 'GST*a', 'Tcl. No', 'Mcb. No_', 'Jd, No,', '9010030756', '9810013725', 'Exeil @?', 'emi', 'Pzkp Date: CJUQE 2j23', 'PU/WI', 'ccldred vJne', '330 05] 44', 'Dcx !Non LoX', 'Transucan', 'S1? D9le', 'I02 202}', '0iPkos', 'Datt', '171go7', '51774110404', 'Del. Enp_', 'PVR Nc', 'Wi( Kjs):', '33452', 'Sig78Uurc', 'Deenabo', 'Seepcutolno', 'Wnm Kas', '106', 'ES-Ccde', 'Ner', 'JEAKUKL', 'TscutueactupeciCAUS', 'Cha: W\"lin Kgs};', 'ol Deliery Cialez', 'SPCcil lastnuctons', 'CoDI:', '1}', '571835011285', '0k', 'Ruaantd Jrxnami i797[injunn Me 87 0l', '(01', 'cnote Mileum cubat Gull GuuyinJGST u  JFF Fb?', '1\"', 'Contane € $n', 'nrenrcd Eeondeertn3cone  nntoionottoot77777Z7t7t', 'Fdrorem} 84 oottart :73t Mlye:cn ccnbfeacn Inn %apt ls lexand 027:: INs sMienicnt does npt cottaln', '647 & €Juivjiene', 'snprur] Sica', '02309n7', 'Gilent cetimant ne', 'Woll _lcctcan; locommind in_tincuoinjaam4', 'cmininaun', 'Idss\"pna:', 'Mmt_ae', 'ccaeouaiciunnlau Mack Iai unujbhuuturinalceJiGiWI \" 158c 2j1.124', 'Taomn', '74n-jea', 'Uor']\n",
      "\n",
      "['SPp', 'SPC', 'Destination : HOG / HOG', '4', 'AIR', 'BLUEDART', 'EXPRESS LiMITED', 'Origin', 'CHENNAI\"', 'HOOGLY BDEL', 'To:', 'INGRAM MICRO', 'INDIA', 'PRIVA', 'Shippzr', '0c2450', 'SERVICES', 'Attention: INGRAM MICRO', 'INDIA', 'DELL,', 'INTERNATIONAL', 'BISINESS', 'PARKNH2', 'OPP', 'Sender:', 'INDIR PRIVAT% LIMITED', 'Addressas#t', '~ETROL', 'PUHP', 'Address:c/0', 'YCA', 'LNDIA', 'LTD', 'PLOT No', '(DTA}', 'UNIT', 'DOGHL-', 'SIPCOT', '#ITECH  3EZ', 'PHASE', 'SRIPERUMBUDOR-', '602105', 'Pi ncode', '42306', 'TTel:', '04461704177', 'Pincode:', 'Tel:', 'Dox / NonDox :', 'Date:', '01/07/2023', 'ActWt: 5.440', 'Fgg', 'Pickup', '3.02', 'Kg?', 'Time:', 'chg', 'Wt:', 'Einp#; 107791', 'v4a3f', 'Pieces:', '5(9129', '5 8 0 7 3 7 6 1 6 9 0', 'Comurercial', 'Val', 'Shipr Sign;', '30', '183783.83', 'PURF', 'Rel', '#:852956875', 'Comnodity', 'Dimension Qetzils:', 'Detailg', '22 Eb', 'Pcs', 'Delivery', 'agree', '36.0', '9.00', '56.0', 'skipmen-', 'condition', 'I/Ne', 'Taxcs', 'Iecei', 'custons', 'Duties', 'clarge', 'including', '~PPidase', 'Seal', 'BeEroi', 'afplicable', 'Consignna Signature:', 'Nane', 'Boxes#1', 'Ref+852956875/CORET', 'bluedark com', 'Track this airwaybillaLWwW I', 'POE CQPY', 'Cut', 'Here', 'PVI', 'Agalngt', 'ggod', 'Dellver', '4L1', 'Coinpaiy', 'with', '(Signature']\n",
      "\n",
      "['Jestiration : HOG', 'HoG', 'AIR', 'BLUEDART', 'Origt ;', '#D', 'SPD', 'It', 'HOOGLY BDEL', 'Ck_A', 'MTCRO', 'INDIA', 'PRIVA', 'To:', 'INGRAM', 'Shipper', '\"002450', 'Attention:', 'MICRO', 'INDIA', 'DELL', 'INTERNATIONAI, SERVICES', 'BUSINESS  PARKNEZ', 'OPP', 'LINT', 'TED', 'Address: SHYAM', 'Sender:', 'INDIA', 'PRIVATE', 'KALIPA-', 'AE  PETROL', 'PUHP', 'YCH INDIA', 'LTD', 'Address;C/6', 'UNIT', 'HOOGHLY', '(CTAS', 'PLoT', 'SIPCCT', 'HITZCR ScZ', 'PAASE', '04461704177', 'SRIPERUMAUDUR-602105', 'Pincode', '712306', 'Tel:', 'Pincode:', 'Dox /NonDox', 'Tel:', 'Actrt: 10.960', 'Kgg', 'Pickup U-e\"', '01/07/2023', 'Kgs', 'Chg', 'Nt:', '6.05', 'Timc:', 'Empf;', '102797', '3 7 6 1 6 8 6', 'Pieces:', 'Comercial', 'Va] e', 'Shipr Sign:_', '828', '553943,94', 'PUR#-', 'Ref', '852956876', 'Dimension Detais:', 'CommoditY', 'Pcs', 'Delivcry Deteils_', '19 2', 'NXec', '36.0', '9.00', 'shipnent', 'good', 'contcti Dutfe', 'Taxes', 'Sayeijid cubfgte', 'including j', '543', 'Please', '3roi', 'aFplic-ble', 'Corsignee Signz:ure:', '2021', 'Rzhvs', 'unC', 't', 'Boxes#2  RP', 'Reff252956876/CORET', 'air waybillat', 'www bluedad com', '4y', 'Tachthis', 'PQD EQEY', 'Cut', 'Here--', 'INCRAM', '54S', 'S60', 'Against', 'agree', 'Daliver', 'Seall', 'oms _', 'Company', 'With', 'Onature', 'Slida_']\n",
      "\n",
      "['l', 'ROduct CODE', 'HUI', 'DART APEX', 'RT', '(4-HIEE Cud', 'CuDYLDU ( cdc', 'BluE Da', 'Cum\"', 'coipalg', 'Amena', '44EZZ24', 'Ict', 'TEE', 'LLG', 'Et', 'Di #i', 'HI', 'M', 'EEEx', 'IZZZE', 'IRucnrd Ducumu', 'DJc\"', 'Pesou or', 'Dckcnntiou Hant W coleal', 'Shippcr *', 'Cude', 'Rakrralo', 'FFEFLWIT', 'Dctll', 'Amtllli ', 'Fmrw', '7', 'FEE', '04i5 Chcpa', 'Feel 4', '5)4898706 75', '5 8 0 3 6 4 7 6 3 7 4', '@uct s Ii=', 'TLLEuuuT', 'Fotk}', 'rnrnm', '5915', '4308', '8', 'HTFAD', 'Cl Crui J', 'IcHO (hn\"', '\"ctnl: Uny', 'V\" Clp?', '\"ofma-BAAA', 'EDL', 'Kapoor\"', 'UMA(Nc', 'PACK TYPE', '8 5297731', '981866', '29/08/1023', 'LOD', '56', '(IRAND TOTAL', '9RLSR', 'POD COPY', 'Track { WW wbledarevm OR', '1866-233-1234', 'FIN NECOTTAPLE ATOW*T', '207', '29 &', 'Shvevcn', 'antu', 'Qoc', 'calll']\n",
      "\n"
     ]
    }
   ],
   "source": [
    "for filename in filenames:\n",
    "    img_path=mypath+filename\n",
    "\n",
    "    text_result = reader.readtext(img_path, detail = 0)\n",
    "    #if(len(text_result)<20):\n",
    "        #text_result=rotate_image(img_path)\n",
    "        #print(\"rotated image +++++++++++++++++++\")\n",
    "    \n",
    "    #print(filename)\n",
    "    print(text_result)\n",
    "    #print(len(text_result))\n",
    "    print(\"\")\n",
    "    #print(\"----------------------------------------------------------------------------------\")"
   ]
  },
  {
   "cell_type": "code",
   "execution_count": 99,
   "metadata": {},
   "outputs": [
    {
     "name": "stdout",
     "output_type": "stream",
     "text": [
      "---------------------------------------------------------------\n",
      "---------------------------------------------------------------\n"
     ]
    }
   ],
   "source": [
    "from tqdm import tqdm_notebook as tqdm # optional. Adds a progress bar to the for loop\n",
    "import os\n",
    "from PIL import Image\n",
    "from PIL.ExifTags import TAGS\n",
    "\n",
    "for filename in filenames:\n",
    "    img_path=mypath+filename\n",
    "    im = Image.open(img_path)\n",
    "\n",
    "    exif=im._getexif()\n",
    "    if(str(exif)!=\"None\"):\n",
    "        for key,value in im._getexif().items():\n",
    "            print(TAGS.get(key))\n",
    "            print(str(value))\n",
    "\n",
    "    print(\"---------------------------------------------------------------\")"
   ]
  },
  {
   "cell_type": "code",
   "execution_count": 77,
   "metadata": {},
   "outputs": [],
   "source": [
    "for key,value in im._getexif().items():\n",
    "    if TAGS.get(key) == 'Orientation':\n",
    "        orientation = value\n",
    "      \n",
    "if orientation == 1:\n",
    "    im\n",
    "if orientation == 3:\n",
    "    im = im.rotate(180)\n",
    "if orientation == 6:\n",
    "    im = im.rotate(270)\n",
    "if orientation == 8:\n",
    "    im = im.rotate(90)\n",
    "  \n",
    "im.save(image_path)"
   ]
  },
  {
   "cell_type": "code",
   "execution_count": 54,
   "metadata": {},
   "outputs": [
    {
     "name": "stderr",
     "output_type": "stream",
     "text": [
      "Neither CUDA nor MPS are available - defaulting to CPU. Note: This module is much faster with a GPU.\n"
     ]
    },
    {
     "name": "stdout",
     "output_type": "stream",
     "text": [
      "['l', 'ROduct CODE', 'HUI', 'DART APEX', 'RT', '(4-HIEE Cud', 'CuDYLDU ( cdc', 'BluE Da', 'Cum\"', 'coipalg', 'Amena', '44EZZ24', 'Ict', 'TEE', 'LLG', 'Et', 'Di #i', 'HI', 'M', 'EEEx', 'IZZZE', 'IRucnrd Ducumu', 'DJc\"', 'Pesou or', 'Dckcnntiou Hant W coleal', 'Shippcr *', 'Cude', 'Rakrralo', 'FFEFLWIT', 'Dctll', 'Amtllli ', 'Fmrw', '7', 'FEE', '04i5 Chcpa', 'Feel 4', '5)4898706 75', '5 8 0 3 6 4 7 6 3 7 4', '@uct s Ii=', 'TLLEuuuT', 'Fotk}', 'rnrnm', '5915', '4308', '8', 'HTFAD', 'Cl Crui J', 'IcHO (hn\"', '\"ctnl: Uny', 'V\" Clp?', '\"ofma-BAAA', 'EDL', 'Kapoor\"', 'UMA(Nc', 'PACK TYPE', '8 5297731', '981866', '29/08/1023', 'LOD', '56', '(IRAND TOTAL', '9RLSR', 'POD COPY', 'Track { WW wbledarevm OR', '1866-233-1234', 'FIN NECOTTAPLE ATOW*T', '207', '29 &', 'Shvevcn', 'antu', 'Qoc', 'calll']\n"
     ]
    }
   ],
   "source": [
    "from PIL import Image\n",
    "import easyocr\n",
    "\n",
    "#img2=Image.open('./POD1.PNG')\n",
    "reader2 = easyocr.Reader(['en'])\n",
    "\n",
    "text2=reader2.readtext(img_path, detail = 0)\n",
    "\n",
    "print(text2)"
   ]
  }
 ],
 "metadata": {
  "kernelspec": {
   "display_name": "Python 3",
   "language": "python",
   "name": "python3"
  },
  "language_info": {
   "codemirror_mode": {
    "name": "ipython",
    "version": 3
   },
   "file_extension": ".py",
   "mimetype": "text/x-python",
   "name": "python",
   "nbconvert_exporter": "python",
   "pygments_lexer": "ipython3",
   "version": "3.11.3"
  },
  "orig_nbformat": 4
 },
 "nbformat": 4,
 "nbformat_minor": 2
}

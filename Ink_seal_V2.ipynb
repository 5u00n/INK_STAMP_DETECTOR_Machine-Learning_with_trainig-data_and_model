{
 "cells": [
  {
   "cell_type": "code",
   "execution_count": 9,
   "metadata": {},
   "outputs": [],
   "source": [
    "from PIL import Image,ImageDraw,ImageFont\n",
    "from ultralytics import YOLO\n",
    "from os import walk\n",
    "import easyocr\n",
    "import numpy as np\n",
    "import xlsxwriter\n",
    "import os"
   ]
  },
  {
   "cell_type": "code",
   "execution_count": 8,
   "metadata": {},
   "outputs": [],
   "source": [
    "\n",
    "model = YOLO('./weights/bestV2.pt')  # load a custom model\n"
   ]
  },
  {
   "cell_type": "code",
   "execution_count": 10,
   "metadata": {},
   "outputs": [
    {
     "name": "stderr",
     "output_type": "stream",
     "text": [
      "Neither CUDA nor MPS are available - defaulting to CPU. Note: This module is much faster with a GPU.\n"
     ]
    }
   ],
   "source": [
    "myFont = ImageFont.truetype('./Roboto-Bold.ttf', 30)\n",
    "reader = easyocr.Reader(['en'])\n",
    "mypath=\"./Image_files/\"\n",
    "filenames = next(walk(mypath), (None, None, []))[2]  # [] if no file\n",
    "\n",
    "output_path=\"./output-marked_img\"\n",
    "if not os.path.exists(output_path):\n",
    "    os.makedirs(output_path)"
   ]
  },
  {
   "cell_type": "code",
   "execution_count": 12,
   "metadata": {},
   "outputs": [
    {
     "name": "stderr",
     "output_type": "stream",
     "text": [
      "\n"
     ]
    },
    {
     "name": "stderr",
     "output_type": "stream",
     "text": [
      "0: 512x640 3 squaresealss, 1732.6ms\n",
      "Speed: 11.9ms preprocess, 1732.6ms inference, 15.7ms postprocess per image at shape (1, 3, 512, 640)\n",
      "\n",
      "0: 448x640 3 squaresealss, 1764.6ms\n",
      "Speed: 3.6ms preprocess, 1764.6ms inference, 0.0ms postprocess per image at shape (1, 3, 448, 640)\n",
      "\n",
      "0: 640x480 (no detections), 1701.5ms\n",
      "Speed: 49.5ms preprocess, 1701.5ms inference, 0.0ms postprocess per image at shape (1, 3, 640, 480)\n",
      "\n",
      "0: 512x640 1 roundseals, 1851.7ms\n",
      "Speed: 8.9ms preprocess, 1851.7ms inference, 1.0ms postprocess per image at shape (1, 3, 512, 640)\n",
      "\n",
      "0: 640x480 2 rectanglesealss, 1 squareseals, 1809.8ms\n",
      "Speed: 23.5ms preprocess, 1809.8ms inference, 0.0ms postprocess per image at shape (1, 3, 640, 480)\n",
      "\n",
      "0: 640x448 1 rectangleseals, 4 roundsealss, 1 squareseals, 1772.0ms\n",
      "Speed: 17.2ms preprocess, 1772.0ms inference, 5.0ms postprocess per image at shape (1, 3, 640, 448)\n",
      "\n",
      "0: 480x640 2 rectanglesealss, 1905.7ms\n",
      "Speed: 0.0ms preprocess, 1905.7ms inference, 0.0ms postprocess per image at shape (1, 3, 480, 640)\n",
      "\n",
      "0: 640x480 1 rectangleseals, 1 roundseals, 1 squareseals, 1699.6ms\n",
      "Speed: 2.3ms preprocess, 1699.6ms inference, 0.0ms postprocess per image at shape (1, 3, 640, 480)\n",
      "\n",
      "0: 512x640 1 rectangleseals, 2 roundsealss, 1 squareseals, 2066.5ms\n",
      "Speed: 0.0ms preprocess, 2066.5ms inference, 0.0ms postprocess per image at shape (1, 3, 512, 640)\n",
      "\n",
      "0: 480x640 2 squaresealss, 1739.2ms\n",
      "Speed: 7.7ms preprocess, 1739.2ms inference, 8.4ms postprocess per image at shape (1, 3, 480, 640)\n"
     ]
    }
   ],
   "source": [
    "for filename in filenames:\n",
    "    img_path=mypath+\"/\"+filename\n",
    "    img = Image.open(img_path).convert('RGB')\n",
    "\n",
    "    #img=is_vertically_flipped(img)\n",
    "    #img.save(img_path)\n",
    "\n",
    "    results = model.predict(img, conf=0.30)\n",
    "\n",
    "    text_result = reader.readtext(img_path, detail = 0)\n",
    "\n",
    "    ref_no=\"\"\n",
    "    for txts in text_result:\n",
    "        if(txts.__contains__(\"Ref#\")):\n",
    "            ref_no=txts.split(\"#\")[1].split(\"/\")[0]\n",
    "\n",
    "    i=0\n",
    "    for det in results[0].boxes.xyxy:\n",
    "        x1, y1, x2, y2 = det\n",
    "        x1, y1, x2, y2 = int(x1), int(y1), int(x2), int(y2)\n",
    "\n",
    "        draw = ImageDraw.Draw(img)\n",
    "        draw.rectangle([x1, y1, x2, y2], outline=\"red\", width=3)\n",
    "        draw2 = ImageDraw.Draw(img)\n",
    "        draw2.text((x1+10, y1+10),ref_no, font=myFont,fill=(255, 0, 0),outline=(0,0,0))\n",
    "        i=i+1\n",
    "    draw = ImageDraw.Draw(img)\n",
    "    if results[0].boxes.xyxy.size()[0]>=2:\n",
    "        draw2.text((10, 10),\"Picture with two ink stamps\", font=myFont,fill=(255, 0, 0),outline=(0,0,0))\n",
    "    else:\n",
    "        draw2.text((10, 10),\"Picture with less than two ink stamps\", font=myFont,fill=(255, 0, 0),outline=(0,0,0))\n",
    "\n",
    "    seal_present=\"Yes\"\n",
    "    if(results[0].boxes.xyxy.size()[0]>=2):\n",
    "        seal_present=\"Yes\"\n",
    "    else:\n",
    "        seal_present=\"No\"\n",
    "\n",
    "\n",
    "    img.save(output_path+\"/\"+ref_no+filename)\n",
    "\n",
    "    img.show()\n"
   ]
  }
 ],
 "metadata": {
  "kernelspec": {
   "display_name": "Python 3",
   "language": "python",
   "name": "python3"
  },
  "language_info": {
   "codemirror_mode": {
    "name": "ipython",
    "version": 3
   },
   "file_extension": ".py",
   "mimetype": "text/x-python",
   "name": "python",
   "nbconvert_exporter": "python",
   "pygments_lexer": "ipython3",
   "version": "3.11.3"
  },
  "orig_nbformat": 4
 },
 "nbformat": 4,
 "nbformat_minor": 2
}
